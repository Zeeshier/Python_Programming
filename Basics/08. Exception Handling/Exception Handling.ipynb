{
 "cells": [
  {
   "cell_type": "markdown",
   "metadata": {},
   "source": [
    "# Exception Handling"
   ]
  },
  {
   "cell_type": "code",
   "execution_count": 3,
   "metadata": {},
   "outputs": [
    {
     "name": "stdout",
     "output_type": "stream",
     "text": [
      "Error Here.\n"
     ]
    }
   ],
   "source": [
    "a = 10\n",
    "try:\n",
    "    b = int(input(\"Enter any Number to Divide: \"))\n",
    "    a = a/b\n",
    "    print(\"Success: \", a)\n",
    "except:\n",
    "    print(\"Error Here.\")\n"
   ]
  },
  {
   "cell_type": "markdown",
   "metadata": {},
   "source": [
    "Try Except\n",
    "Zero Divison Error\n",
    "Value Error"
   ]
  },
  {
   "cell_type": "code",
   "execution_count": 6,
   "metadata": {},
   "outputs": [
    {
     "name": "stdout",
     "output_type": "stream",
     "text": [
      "You enter Zero, which cause Error.\n"
     ]
    }
   ],
   "source": [
    "\n",
    "\n",
    "a = 12\n",
    "try:\n",
    "    b = int(input(\"Enter any number to Divide: \"))\n",
    "    a = a/b\n",
    "    print(\"Sucess: \",a)\n",
    "\n",
    "except ZeroDivisionError:\n",
    "    print(\"You enter Zero, which cause Error.\")\n",
    "\n",
    "except ValueError:\n",
    "    print(\"You don't enter Number, which cause Error.\")\n",
    "    \n",
    "except:\n",
    "    print(\"Another Issue\")"
   ]
  },
  {
   "cell_type": "markdown",
   "metadata": {},
   "source": [
    "Try Except Else"
   ]
  },
  {
   "cell_type": "code",
   "execution_count": 7,
   "metadata": {},
   "outputs": [
    {
     "name": "stdout",
     "output_type": "stream",
     "text": [
      "Success:  10.0\n"
     ]
    }
   ],
   "source": [
    "\n",
    "a = 50\n",
    "try:\n",
    "    b = int(input(\"Enter any number to divide: \"))\n",
    "    a = a/b\n",
    "\n",
    "except ZeroDivisionError:\n",
    "    print(\"You enter Zero, which cause Error.\")\n",
    "\n",
    "except ValueError:\n",
    "    print(\"You don't enter Number, which cause Error.\")\n",
    "    \n",
    "else:\n",
    "    print(\"Success: \", a)"
   ]
  },
  {
   "cell_type": "markdown",
   "metadata": {},
   "source": [
    "Square Root"
   ]
  },
  {
   "cell_type": "code",
   "execution_count": 8,
   "metadata": {},
   "outputs": [
    {
     "name": "stdout",
     "output_type": "stream",
     "text": [
      "Result:  2.0\n"
     ]
    }
   ],
   "source": [
    "import math\n",
    "\n",
    "def sqrt(x):\n",
    "    \n",
    "    try:\n",
    "        b = math.sqrt(x)\n",
    "        print(\"Result: \", b)\n",
    "\n",
    "    except:\n",
    "        print(\"Invalid Input, Enter Positive Integer or Floats\")\n",
    "\n",
    "x = int(input(\"Enter any Number: \"))\n",
    "sqrt(x)"
   ]
  }
 ],
 "metadata": {
  "kernelspec": {
   "display_name": "Python 3",
   "language": "python",
   "name": "python3"
  },
  "language_info": {
   "codemirror_mode": {
    "name": "ipython",
    "version": 3
   },
   "file_extension": ".py",
   "mimetype": "text/x-python",
   "name": "python",
   "nbconvert_exporter": "python",
   "pygments_lexer": "ipython3",
   "version": "3.12.5"
  }
 },
 "nbformat": 4,
 "nbformat_minor": 2
}
