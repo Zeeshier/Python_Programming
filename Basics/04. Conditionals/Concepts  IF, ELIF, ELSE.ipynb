{
 "cells": [
  {
   "cell_type": "markdown",
   "metadata": {},
   "source": [
    "IF"
   ]
  },
  {
   "cell_type": "code",
   "execution_count": null,
   "metadata": {},
   "outputs": [],
   "source": [
    "age = 19\n",
    "\n",
    "if(age>= 18):\n",
    " print(\"you go.\")\n",
    "\n",
    "if(age< 18):\n",
    " print(\"you stop.\")"
   ]
  },
  {
   "cell_type": "markdown",
   "metadata": {},
   "source": [
    "IF ELSE"
   ]
  },
  {
   "cell_type": "code",
   "execution_count": null,
   "metadata": {},
   "outputs": [],
   "source": [
    "age = 19\n",
    "\n",
    "if(age>= 18 ):\n",
    "    print(\"you go!\")\n",
    "\n",
    "else:\n",
    "    print(\"you stop!\")"
   ]
  },
  {
   "cell_type": "markdown",
   "metadata": {},
   "source": [
    "IF ELIF ELSE"
   ]
  },
  {
   "cell_type": "code",
   "execution_count": null,
   "metadata": {},
   "outputs": [],
   "source": [
    "age = 19\n",
    "\n",
    "if(age>18):  # if statement\n",
    " print(\"you go!\")\n",
    "\n",
    "elif(age == 18):  # elif statement\n",
    " print(\"you also go!\")\n",
    "\n",
    "else:   # else statement\n",
    " print(\"you stop!\")"
   ]
  }
 ],
 "metadata": {
  "language_info": {
   "name": "python"
  }
 },
 "nbformat": 4,
 "nbformat_minor": 2
}
